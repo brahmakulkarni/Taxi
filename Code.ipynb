{
 "cells": [
  {
   "cell_type": "code",
   "execution_count": 1,
   "metadata": {},
   "outputs": [],
   "source": [
    "import numpy as np\n",
    "import pandas as pd\n",
    "import matplotlib.pyplot as plt\n",
    "import seaborn as sns\n",
    "from sklearn.preprocessing import LabelEncoder, OneHotEncoder\n",
    "from sklearn.preprocessing import StandardScaler\n",
    "from sklearn.model_selection import train_test_split\n",
    "from sklearn.utils import shuffle\n",
    "from sklearn.decomposition import PCA\n",
    "from sklearn.linear_model import LinearRegression\n",
    "from sklearn.linear_model import LogisticRegression\n",
    "from sklearn.metrics import confusion_matrix\n",
    "from sklearn import metrics\n",
    "import pickle\n",
    "# import warnings\n",
    "# warnings.filterwarnings(\"ignore\")"
   ]
  },
  {
   "cell_type": "markdown",
   "metadata": {},
   "source": [
    "# Reading Data"
   ]
  },
  {
   "cell_type": "code",
   "execution_count": 2,
   "metadata": {},
   "outputs": [],
   "source": [
    "df_chunk = pd.read_csv('train.csv', chunksize = 500000, low_memory = False)\n",
    "chunks = []"
   ]
  },
  {
   "cell_type": "code",
   "execution_count": 3,
   "metadata": {},
   "outputs": [],
   "source": [
    "coord_list = ['pickup_longitude', 'pickup_latitude', 'dropoff_longitude', 'dropoff_latitude', 'fare_amount']\n",
    "def remove_invalid(chunk):\n",
    "    for c in coord_list:\n",
    "        for i in chunk.index:\n",
    "            if(c == \"pickup_longitude\" or c == \"dropoff_longitude\"):\n",
    "                if(chunk[c][i].astype(float) > -73.699215 or chunk[c][i].astype(float) < -74.257159):\n",
    "#                     chunk = chunk.replace(chunk[c][i],np.nan)\n",
    "                    chunk = chunk.drop([i])\n",
    "            elif (c == \"pickup_latitude\" or c == \"dropoff_latitude\"):\n",
    "                if(chunk[c][i].astype(float) > 40.915568 or chunk[c][i].astype(float) < 40.495992):\n",
    "#                     chunk = chunk.replace(chunk[c][i],np.nan)\n",
    "                    chunk = chunk.drop([i])\n",
    "            elif(c == \"fare_amount\"):\n",
    "                if(chunk[c][i] >= 200 or chunk[c][i] <= 0):\n",
    "                    chunk = chunk.drop([i])\n",
    "    return chunk\n",
    "        "
   ]
  },
  {
   "cell_type": "code",
   "execution_count": 4,
   "metadata": {},
   "outputs": [],
   "source": [
    "def remove_outlier(chunk, data_1):\n",
    "    outliers_indices=[]\n",
    "    threshold = 3\n",
    "    mean_1 = np.mean(data_1)\n",
    "    std_1 = np.std(data_1)\n",
    "    \n",
    "#     length = len(data_1)\n",
    "    for i in chunk.index:\n",
    "        z_score= (data_1[i] - mean_1)/std_1 \n",
    "        if np.abs(z_score) > threshold:\n",
    "            outliers_indices.append(i)\n",
    "    for i in outliers_indices:\n",
    "        chunk = chunk.drop([i])\n",
    "    return chunk\n",
    "\n",
    "\n",
    "# print(len(detect_outlier(chunks[1]['fare_amount'])))"
   ]
  },
  {
   "cell_type": "code",
   "execution_count": 5,
   "metadata": {},
   "outputs": [],
   "source": [
    "def split_datetime(chunk):\n",
    "    hours = []\n",
    "    mins = []\n",
    "    secs = []\n",
    "    years = []\n",
    "    months = []\n",
    "    days = []\n",
    "    length = len(chunk['pickup_longitude'])\n",
    "    \n",
    "    for i in chunk.index:\n",
    "        years.append(int(chunk['pickup_datetime'][i][0:4]))\n",
    "        months.append(int(chunk['pickup_datetime'][i][5:7]) - 1) # 1 is subtracted to aid in days from jan 1st calculations\n",
    "        days.append(int(chunk['pickup_datetime'][i][8:10]))\n",
    "        hours.append(int(chunk['pickup_datetime'][i][11:13]))\n",
    "        mins.append(int(chunk['pickup_datetime'][i][14:16]))\n",
    "        secs.append(int(chunk['pickup_datetime'][i][17:19]))\n",
    "\n",
    "    chunk['years'] = years\n",
    "    chunk['months'] = months\n",
    "    chunk['days'] = days\n",
    "    chunk['hours'] = hours\n",
    "    chunk['mins'] = mins\n",
    "    chunk['secs'] = secs\n",
    "    \n",
    "    return chunk"
   ]
  },
  {
   "cell_type": "code",
   "execution_count": 6,
   "metadata": {},
   "outputs": [],
   "source": [
    "def modify_datetime(chunk):\n",
    "    chunk['secs_past_midnight'] = (chunk['hours']*3600) + (chunk['mins']*60) + (chunk['secs'])\n",
    "    chunk['sin_spm'] = np.sin(2*np.pi*(chunk['secs_past_midnight']/86400))\n",
    "    chunk['cos_spm'] = np.cos(2*np.pi*(chunk['secs_past_midnight']/86400))\n",
    "    chunk['days_past_jan1'] = (chunk['months']*30) + (chunk['days'])\n",
    "    chunk['sin_dpj'] = np.sin(2*np.pi*(chunk['days_past_jan1']/365))\n",
    "    chunk['cos_dpj'] = np.cos(2*np.pi*(chunk['days_past_jan1']/365))\n",
    "    \n",
    "    return chunk"
   ]
  },
  {
   "cell_type": "code",
   "execution_count": 7,
   "metadata": {},
   "outputs": [],
   "source": [
    "def split_data(chunk):\n",
    "    y = chunk['fare_amount']\n",
    "    X = pd.DataFrame(chunk)\n",
    "    X = X.drop(['fare_amount','key','pickup_datetime', 'years', 'months', 'days', 'hours', 'mins', 'secs', 'secs_past_midnight', 'days_past_jan1'], axis = 1)\n",
    "    X = StandardScaler().fit_transform(X)\n",
    "    return (X, y)"
   ]
  },
  {
   "cell_type": "code",
   "execution_count": 8,
   "metadata": {},
   "outputs": [],
   "source": [
    "def linreg(X, y, linreg = LinearRegression()):\n",
    "    X_train, X_test, y_train, y_test = train_test_split(X, y)\n",
    "#     linreg = LinearRegression()\n",
    "    linreg.fit(X_train, y_train)\n",
    "    y_pred = linreg.predict(X_test)\n",
    "    rmse = np.sqrt(metrics.mean_squared_error(y_test, y_pred))\n",
    "    return (linreg, rmse)\n",
    "\n",
    "# X1_train, X1_test, y1_train, y1_test = train_test_split(features, target, random_state=1)"
   ]
  },
  {
   "cell_type": "code",
   "execution_count": 9,
   "metadata": {},
   "outputs": [],
   "source": [
    "def save_model(model, filename): \n",
    "#     filename = 'model.sav'\n",
    "    pickle.dump(model, open(filename, 'wb'))"
   ]
  },
  {
   "cell_type": "code",
   "execution_count": 10,
   "metadata": {},
   "outputs": [],
   "source": [
    "def load_model(filename): \n",
    "    model = pickle.load(open(filename, 'rb'))\n",
    "    return model"
   ]
  },
  {
   "cell_type": "markdown",
   "metadata": {},
   "source": [
    "# Reading chunks and applying functions"
   ]
  },
  {
   "cell_type": "code",
   "execution_count": 32,
   "metadata": {
    "scrolled": true
   },
   "outputs": [
    {
     "name": "stdout",
     "output_type": "stream",
     "text": [
      "3.3234072640090355\n",
      "3.2852429007498265\n",
      "3.307326681343063\n",
      "3.3036649425245432\n"
     ]
    }
   ],
   "source": [
    "count = 0\n",
    "for chunk in df_chunk:\n",
    "    if (count == 0):\n",
    "        model = LinearRegression()\n",
    "    else:\n",
    "        model = load_model(\"model.sav\")\n",
    "        \n",
    "    chunk = remove_invalid(chunk)\n",
    "    chunk.dropna(inplace = True)\n",
    "    chunk = split_datetime(chunk)\n",
    "    chunk = modify_datetime(chunk)\n",
    "    chunk = remove_outlier(chunk, chunk['fare_amount'])\n",
    "    chunk['manhattan_dist'] = abs(chunk['pickup_latitude']-chunk['dropoff_latitude']) + abs(chunk['pickup_longitude']-chunk['dropoff_longitude'])\n",
    "    (X1, y1) = split_data(chunk)\n",
    "    model, rmse = linreg(X1, y1, model)\n",
    "    save_model(model, \"model.sav\")\n",
    "    print(rmse)\n",
    "    \n",
    "    if (count == 0):\n",
    "        chunks.append(pd.DataFrame(chunk))\n",
    "    count += 1\n",
    "    if(count == 4):\n",
    "        break"
   ]
  },
  {
   "cell_type": "code",
   "execution_count": 34,
   "metadata": {},
   "outputs": [
    {
     "name": "stdout",
     "output_type": "stream",
     "text": [
      "0\n"
     ]
    }
   ],
   "source": [
    "count = 0\n",
    "test_chunk = pd.read_csv('test.csv', chunksize = 1000000, low_memory = False)\n",
    "test_chunks = []\n",
    "for chunk in test_chunk:\n",
    "    test_chunks.append(pd.DataFrame(chunk))\n",
    "    break\n",
    "print(count)"
   ]
  },
  {
   "cell_type": "code",
   "execution_count": 36,
   "metadata": {},
   "outputs": [
    {
     "data": {
      "text/html": [
       "<div>\n",
       "<style scoped>\n",
       "    .dataframe tbody tr th:only-of-type {\n",
       "        vertical-align: middle;\n",
       "    }\n",
       "\n",
       "    .dataframe tbody tr th {\n",
       "        vertical-align: top;\n",
       "    }\n",
       "\n",
       "    .dataframe thead th {\n",
       "        text-align: right;\n",
       "    }\n",
       "</style>\n",
       "<table border=\"1\" class=\"dataframe\">\n",
       "  <thead>\n",
       "    <tr style=\"text-align: right;\">\n",
       "      <th></th>\n",
       "      <th>key</th>\n",
       "      <th>pickup_datetime</th>\n",
       "      <th>pickup_longitude</th>\n",
       "      <th>pickup_latitude</th>\n",
       "      <th>dropoff_longitude</th>\n",
       "      <th>dropoff_latitude</th>\n",
       "      <th>passenger_count</th>\n",
       "    </tr>\n",
       "  </thead>\n",
       "  <tbody>\n",
       "    <tr>\n",
       "      <th>0</th>\n",
       "      <td>2009-01-01 00:01:04.0000003</td>\n",
       "      <td>2009-01-01 00:01:04 UTC</td>\n",
       "      <td>-73.972484</td>\n",
       "      <td>40.742743</td>\n",
       "      <td>-73.918937</td>\n",
       "      <td>40.764496</td>\n",
       "      <td>1</td>\n",
       "    </tr>\n",
       "    <tr>\n",
       "      <th>1</th>\n",
       "      <td>2009-01-01 00:01:26.0000001</td>\n",
       "      <td>2009-01-01 00:01:26 UTC</td>\n",
       "      <td>-73.985850</td>\n",
       "      <td>40.722826</td>\n",
       "      <td>-73.986301</td>\n",
       "      <td>40.739347</td>\n",
       "      <td>1</td>\n",
       "    </tr>\n",
       "    <tr>\n",
       "      <th>2</th>\n",
       "      <td>2009-01-01 00:04:42.0000001</td>\n",
       "      <td>2009-01-01 00:04:42 UTC</td>\n",
       "      <td>-73.988917</td>\n",
       "      <td>40.740142</td>\n",
       "      <td>-73.982769</td>\n",
       "      <td>40.777291</td>\n",
       "      <td>1</td>\n",
       "    </tr>\n",
       "    <tr>\n",
       "      <th>3</th>\n",
       "      <td>2009-01-01 00:04:54.0000001</td>\n",
       "      <td>2009-01-01 00:04:54 UTC</td>\n",
       "      <td>-73.977163</td>\n",
       "      <td>40.764490</td>\n",
       "      <td>-73.914474</td>\n",
       "      <td>40.771575</td>\n",
       "      <td>1</td>\n",
       "    </tr>\n",
       "    <tr>\n",
       "      <th>4</th>\n",
       "      <td>2009-01-01 00:04:59.0000004</td>\n",
       "      <td>2009-01-01 00:04:59 UTC</td>\n",
       "      <td>-73.948849</td>\n",
       "      <td>40.778003</td>\n",
       "      <td>-73.977678</td>\n",
       "      <td>40.748692</td>\n",
       "      <td>2</td>\n",
       "    </tr>\n",
       "  </tbody>\n",
       "</table>\n",
       "</div>"
      ],
      "text/plain": [
       "                           key          pickup_datetime  pickup_longitude  \\\n",
       "0  2009-01-01 00:01:04.0000003  2009-01-01 00:01:04 UTC        -73.972484   \n",
       "1  2009-01-01 00:01:26.0000001  2009-01-01 00:01:26 UTC        -73.985850   \n",
       "2  2009-01-01 00:04:42.0000001  2009-01-01 00:04:42 UTC        -73.988917   \n",
       "3  2009-01-01 00:04:54.0000001  2009-01-01 00:04:54 UTC        -73.977163   \n",
       "4  2009-01-01 00:04:59.0000004  2009-01-01 00:04:59 UTC        -73.948849   \n",
       "\n",
       "   pickup_latitude  dropoff_longitude  dropoff_latitude  passenger_count  \n",
       "0        40.742743         -73.918937         40.764496                1  \n",
       "1        40.722826         -73.986301         40.739347                1  \n",
       "2        40.740142         -73.982769         40.777291                1  \n",
       "3        40.764490         -73.914474         40.771575                1  \n",
       "4        40.778003         -73.977678         40.748692                2  "
      ]
     },
     "execution_count": 36,
     "metadata": {},
     "output_type": "execute_result"
    }
   ],
   "source": [
    "test_chunks[0].head()"
   ]
  },
  {
   "cell_type": "code",
   "execution_count": 35,
   "metadata": {},
   "outputs": [
    {
     "data": {
      "text/html": [
       "<div>\n",
       "<style scoped>\n",
       "    .dataframe tbody tr th:only-of-type {\n",
       "        vertical-align: middle;\n",
       "    }\n",
       "\n",
       "    .dataframe tbody tr th {\n",
       "        vertical-align: top;\n",
       "    }\n",
       "\n",
       "    .dataframe thead th {\n",
       "        text-align: right;\n",
       "    }\n",
       "</style>\n",
       "<table border=\"1\" class=\"dataframe\">\n",
       "  <thead>\n",
       "    <tr style=\"text-align: right;\">\n",
       "      <th></th>\n",
       "      <th>pickup_longitude</th>\n",
       "      <th>pickup_latitude</th>\n",
       "      <th>dropoff_longitude</th>\n",
       "      <th>dropoff_latitude</th>\n",
       "      <th>passenger_count</th>\n",
       "    </tr>\n",
       "  </thead>\n",
       "  <tbody>\n",
       "    <tr>\n",
       "      <th>count</th>\n",
       "      <td>1000000.000000</td>\n",
       "      <td>1000000.000000</td>\n",
       "      <td>1000000.000000</td>\n",
       "      <td>1000000.000000</td>\n",
       "      <td>1000000.000000</td>\n",
       "    </tr>\n",
       "    <tr>\n",
       "      <th>mean</th>\n",
       "      <td>-73.012053</td>\n",
       "      <td>40.222073</td>\n",
       "      <td>-73.031647</td>\n",
       "      <td>40.233667</td>\n",
       "      <td>1.692398</td>\n",
       "    </tr>\n",
       "    <tr>\n",
       "      <th>std</th>\n",
       "      <td>8.631907</td>\n",
       "      <td>4.699691</td>\n",
       "      <td>8.545333</td>\n",
       "      <td>4.651339</td>\n",
       "      <td>1.339879</td>\n",
       "    </tr>\n",
       "    <tr>\n",
       "      <th>min</th>\n",
       "      <td>-2089.709422</td>\n",
       "      <td>-0.049055</td>\n",
       "      <td>-2089.709422</td>\n",
       "      <td>-0.044617</td>\n",
       "      <td>0.000000</td>\n",
       "    </tr>\n",
       "    <tr>\n",
       "      <th>25%</th>\n",
       "      <td>-73.991715</td>\n",
       "      <td>40.736277</td>\n",
       "      <td>-73.991195</td>\n",
       "      <td>40.735407</td>\n",
       "      <td>1.000000</td>\n",
       "    </tr>\n",
       "    <tr>\n",
       "      <th>50%</th>\n",
       "      <td>-73.981607</td>\n",
       "      <td>40.753533</td>\n",
       "      <td>-73.980058</td>\n",
       "      <td>40.753885</td>\n",
       "      <td>1.000000</td>\n",
       "    </tr>\n",
       "    <tr>\n",
       "      <th>75%</th>\n",
       "      <td>-73.967765</td>\n",
       "      <td>40.767735</td>\n",
       "      <td>-73.964647</td>\n",
       "      <td>40.768652</td>\n",
       "      <td>2.000000</td>\n",
       "    </tr>\n",
       "    <tr>\n",
       "      <th>max</th>\n",
       "      <td>0.042612</td>\n",
       "      <td>651.140235</td>\n",
       "      <td>0.039857</td>\n",
       "      <td>651.136438</td>\n",
       "      <td>208.000000</td>\n",
       "    </tr>\n",
       "  </tbody>\n",
       "</table>\n",
       "</div>"
      ],
      "text/plain": [
       "       pickup_longitude  pickup_latitude  dropoff_longitude  dropoff_latitude  \\\n",
       "count    1000000.000000   1000000.000000     1000000.000000    1000000.000000   \n",
       "mean         -73.012053        40.222073         -73.031647         40.233667   \n",
       "std            8.631907         4.699691           8.545333          4.651339   \n",
       "min        -2089.709422        -0.049055       -2089.709422         -0.044617   \n",
       "25%          -73.991715        40.736277         -73.991195         40.735407   \n",
       "50%          -73.981607        40.753533         -73.980058         40.753885   \n",
       "75%          -73.967765        40.767735         -73.964647         40.768652   \n",
       "max            0.042612       651.140235           0.039857        651.136438   \n",
       "\n",
       "       passenger_count  \n",
       "count   1000000.000000  \n",
       "mean          1.692398  \n",
       "std           1.339879  \n",
       "min           0.000000  \n",
       "25%           1.000000  \n",
       "50%           1.000000  \n",
       "75%           2.000000  \n",
       "max         208.000000  "
      ]
     },
     "execution_count": 35,
     "metadata": {},
     "output_type": "execute_result"
    }
   ],
   "source": [
    "test_chunks[0].describe()"
   ]
  },
  {
   "cell_type": "markdown",
   "metadata": {},
   "source": [
    "# Visualization plots "
   ]
  },
  {
   "cell_type": "code",
   "execution_count": 12,
   "metadata": {},
   "outputs": [
    {
     "name": "stdout",
     "output_type": "stream",
     "text": [
      "AxesSubplot(0.125,0.125;0.775x0.755)\n"
     ]
    },
    {
     "data": {
      "image/png": "[encoded data removed]",
      "text/plain": [
       "<Figure size 432x288 with 1 Axes>"
      ]
     },
     "metadata": {
      "needs_background": "light"
     },
     "output_type": "display_data"
    }
   ],
   "source": [
    "fig, ax = plt.subplots()\n",
    "print(chunks[0][\"pickup_longitude\"].plot.hist(ax = ax, title=\"pickup longitude\",bottom=1, bins=25))\n",
    "ax.set_yscale('log')"
   ]
  },
  {
   "cell_type": "code",
   "execution_count": 13,
   "metadata": {},
   "outputs": [
    {
     "name": "stdout",
     "output_type": "stream",
     "text": [
      "AxesSubplot(0.125,0.125;0.775x0.755)\n"
     ]
    },
    {
     "data": {
      "image/png": "[encoded data removed]",
      "text/plain": [
       "<Figure size 432x288 with 1 Axes>"
      ]
     },
     "metadata": {
      "needs_background": "light"
     },
     "output_type": "display_data"
    }
   ],
   "source": [
    "fig, ax = plt.subplots()\n",
    "print(chunks[0][\"pickup_latitude\"].plot.hist(ax = ax, title=\"pickup latitude\",bottom=1, bins=25))\n",
    "ax.set_yscale('log')"
   ]
  },
  {
   "cell_type": "code",
   "execution_count": 14,
   "metadata": {},
   "outputs": [
    {
     "name": "stdout",
     "output_type": "stream",
     "text": [
      "AxesSubplot(0.125,0.125;0.775x0.755)\n"
     ]
    },
    {
     "data": {
      "image/png": "[encoded data removed]",
      "text/plain": [
       "<Figure size 432x288 with 1 Axes>"
      ]
     },
     "metadata": {
      "needs_background": "light"
     },
     "output_type": "display_data"
    }
   ],
   "source": [
    "fig, ax = plt.subplots()\n",
    "print(chunks[0][\"dropoff_longitude\"].plot.hist(ax = ax, title=\"dropoff longitude\",bottom=1, bins=25))\n",
    "ax.set_yscale('log')"
   ]
  },
  {
   "cell_type": "code",
   "execution_count": 15,
   "metadata": {},
   "outputs": [
    {
     "name": "stdout",
     "output_type": "stream",
     "text": [
      "AxesSubplot(0.125,0.125;0.775x0.755)\n"
     ]
    },
    {
     "data": {
      "image/png": "[encoded data removed]",
      "text/plain": [
       "<Figure size 432x288 with 1 Axes>"
      ]
     },
     "metadata": {
      "needs_background": "light"
     },
     "output_type": "display_data"
    }
   ],
   "source": [
    "fig, ax = plt.subplots()\n",
    "print(chunks[0][\"dropoff_latitude\"].plot.hist(ax = ax, title=\"dropoff latitude\",bottom=1, bins=25))\n",
    "ax.set_yscale('log')"
   ]
  },
  {
   "cell_type": "code",
   "execution_count": 16,
   "metadata": {},
   "outputs": [
    {
     "name": "stdout",
     "output_type": "stream",
     "text": [
      "AxesSubplot(0.125,0.125;0.775x0.755)\n"
     ]
    },
    {
     "data": {
      "image/png": "[encoded data removed]",
      "text/plain": [
       "<Figure size 432x288 with 1 Axes>"
      ]
     },
     "metadata": {
      "needs_background": "light"
     },
     "output_type": "display_data"
    }
   ],
   "source": [
    "fig, ax = plt.subplots()\n",
    "print(chunks[0][\"passenger_count\"].plot.hist(ax = ax, title=\"passenger count\",bottom=1, bins=25))\n",
    "ax.set_yscale('log')"
   ]
  },
  {
   "cell_type": "code",
   "execution_count": 17,
   "metadata": {},
   "outputs": [
    {
     "data": {
      "image/png": "[encoded data removed]",
      "text/plain": [
       "<Figure size 432x288 with 1 Axes>"
      ]
     },
     "metadata": {
      "needs_background": "light"
     },
     "output_type": "display_data"
    }
   ],
   "source": [
    "plt.scatter(chunks[0][\"pickup_latitude\"],chunks[0][\"fare_amount\"])\n",
    "plt.xlabel(\"pickup_latitude\")\n",
    "plt.ylabel(\"fare_amount\")\n",
    "plt.show()"
   ]
  },
  {
   "cell_type": "code",
   "execution_count": 18,
   "metadata": {},
   "outputs": [
    {
     "data": {
      "image/png": "[encoded data removed]",
      "text/plain": [
       "<Figure size 432x288 with 1 Axes>"
      ]
     },
     "metadata": {
      "needs_background": "light"
     },
     "output_type": "display_data"
    }
   ],
   "source": [
    "# fig, ax = plt.subplots()\n",
    "\n",
    "plt.scatter(chunks[0][\"pickup_longitude\"],chunks[0][\"fare_amount\"])\n",
    "plt.xlabel(\"pickup_longitude\")\n",
    "plt.ylabel(\"fare_amount\")\n",
    "plt.show()"
   ]
  },
  {
   "cell_type": "code",
   "execution_count": 19,
   "metadata": {},
   "outputs": [
    {
     "data": {
      "image/png": "[encoded data removed]",
      "text/plain": [
       "<Figure size 432x288 with 1 Axes>"
      ]
     },
     "metadata": {
      "needs_background": "light"
     },
     "output_type": "display_data"
    }
   ],
   "source": [
    "plt.scatter(chunks[0][\"dropoff_latitude\"],chunks[0][\"fare_amount\"])\n",
    "plt.xlabel(\"dropoff_latitude\")\n",
    "plt.ylabel(\"fare_amount\")\n",
    "plt.show()"
   ]
  },
  {
   "cell_type": "code",
   "execution_count": 20,
   "metadata": {},
   "outputs": [
    {
     "data": {
      "image/png": "[encoded data removed]",
      "text/plain": [
       "<Figure size 432x288 with 1 Axes>"
      ]
     },
     "metadata": {
      "needs_background": "light"
     },
     "output_type": "display_data"
    }
   ],
   "source": [
    "plt.scatter(chunks[0][\"dropoff_longitude\"],chunks[0][\"fare_amount\"])\n",
    "plt.xlabel(\"dropoff_longitude\")\n",
    "plt.ylabel(\"fare_amount\")\n",
    "plt.show()"
   ]
  },
  {
   "cell_type": "code",
   "execution_count": 21,
   "metadata": {},
   "outputs": [
    {
     "data": {
      "image/png": "[encoded data removed]",
      "text/plain": [
       "<Figure size 432x288 with 1 Axes>"
      ]
     },
     "metadata": {
      "needs_background": "light"
     },
     "output_type": "display_data"
    }
   ],
   "source": [
    "plt.scatter(chunks[0][\"passenger_count\"],chunks[0][\"fare_amount\"])\n",
    "plt.xlabel(\"passenger_count\")\n",
    "plt.ylabel(\"fare_amount\")\n",
    "plt.show()"
   ]
  },
  {
   "cell_type": "markdown",
   "metadata": {},
   "source": [
    "# Detecting Outliers"
   ]
  },
  {
   "cell_type": "code",
   "execution_count": 22,
   "metadata": {},
   "outputs": [
    {
     "data": {
      "text/plain": [
       "{'whiskers': [<matplotlib.lines.Line2D at 0x7fa55f549cf8>,\n",
       "  <matplotlib.lines.Line2D at 0x7fa55f549358>],\n",
       " 'caps': [<matplotlib.lines.Line2D at 0x7fa55f5499e8>,\n",
       "  <matplotlib.lines.Line2D at 0x7fa55f549b38>],\n",
       " 'boxes': [<matplotlib.lines.Line2D at 0x7fa55f549390>],\n",
       " 'medians': [<matplotlib.lines.Line2D at 0x7fa5507e12b0>],\n",
       " 'fliers': [<matplotlib.lines.Line2D at 0x7fa5507e15f8>],\n",
       " 'means': []}"
      ]
     },
     "execution_count": 22,
     "metadata": {},
     "output_type": "execute_result"
    },
    {
     "data": {
      "image/png": "[encoded data removed]",
      "text/plain": [
       "<Figure size 432x288 with 1 Axes>"
      ]
     },
     "metadata": {
      "needs_background": "light"
     },
     "output_type": "display_data"
    }
   ],
   "source": [
    "plt.boxplot(chunks[0].fare_amount)"
   ]
  },
  {
   "cell_type": "code",
   "execution_count": 23,
   "metadata": {},
   "outputs": [
    {
     "data": {
      "text/html": [
       "<div>\n",
       "<style scoped>\n",
       "    .dataframe tbody tr th:only-of-type {\n",
       "        vertical-align: middle;\n",
       "    }\n",
       "\n",
       "    .dataframe tbody tr th {\n",
       "        vertical-align: top;\n",
       "    }\n",
       "\n",
       "    .dataframe thead th {\n",
       "        text-align: right;\n",
       "    }\n",
       "</style>\n",
       "<table border=\"1\" class=\"dataframe\">\n",
       "  <thead>\n",
       "    <tr style=\"text-align: right;\">\n",
       "      <th></th>\n",
       "      <th>fare_amount</th>\n",
       "      <th>pickup_longitude</th>\n",
       "      <th>pickup_latitude</th>\n",
       "      <th>dropoff_longitude</th>\n",
       "      <th>dropoff_latitude</th>\n",
       "      <th>passenger_count</th>\n",
       "      <th>years</th>\n",
       "      <th>months</th>\n",
       "      <th>days</th>\n",
       "      <th>hours</th>\n",
       "      <th>mins</th>\n",
       "      <th>secs</th>\n",
       "      <th>secs_past_midnight</th>\n",
       "      <th>sin_spm</th>\n",
       "      <th>cos_spm</th>\n",
       "      <th>days_past_jan1</th>\n",
       "      <th>sin_dpj</th>\n",
       "      <th>cos_dpj</th>\n",
       "      <th>manhattan_dist</th>\n",
       "    </tr>\n",
       "  </thead>\n",
       "  <tbody>\n",
       "    <tr>\n",
       "      <th>count</th>\n",
       "      <td>475268.000000</td>\n",
       "      <td>475268.000000</td>\n",
       "      <td>475268.000000</td>\n",
       "      <td>475268.000000</td>\n",
       "      <td>475268.000000</td>\n",
       "      <td>475268.000000</td>\n",
       "      <td>475268.000000</td>\n",
       "      <td>475268.000000</td>\n",
       "      <td>475268.000000</td>\n",
       "      <td>475268.000000</td>\n",
       "      <td>475268.000000</td>\n",
       "      <td>475268.000000</td>\n",
       "      <td>475268.000000</td>\n",
       "      <td>475268.000000</td>\n",
       "      <td>475268.000000</td>\n",
       "      <td>475268.000000</td>\n",
       "      <td>475268.000000</td>\n",
       "      <td>475268.000000</td>\n",
       "      <td>475268.000000</td>\n",
       "    </tr>\n",
       "    <tr>\n",
       "      <th>mean</th>\n",
       "      <td>10.107973</td>\n",
       "      <td>-73.977948</td>\n",
       "      <td>40.752018</td>\n",
       "      <td>-73.975957</td>\n",
       "      <td>40.752164</td>\n",
       "      <td>1.681921</td>\n",
       "      <td>2011.720114</td>\n",
       "      <td>5.260314</td>\n",
       "      <td>15.711525</td>\n",
       "      <td>13.523380</td>\n",
       "      <td>29.604810</td>\n",
       "      <td>15.819801</td>\n",
       "      <td>50476.278195</td>\n",
       "      <td>-0.203902</td>\n",
       "      <td>-0.039651</td>\n",
       "      <td>173.520950</td>\n",
       "      <td>0.057311</td>\n",
       "      <td>-0.013111</td>\n",
       "      <td>0.038265</td>\n",
       "    </tr>\n",
       "    <tr>\n",
       "      <th>std</th>\n",
       "      <td>6.291704</td>\n",
       "      <td>0.027272</td>\n",
       "      <td>0.024555</td>\n",
       "      <td>0.028171</td>\n",
       "      <td>0.028644</td>\n",
       "      <td>1.305605</td>\n",
       "      <td>1.861543</td>\n",
       "      <td>3.437112</td>\n",
       "      <td>8.687479</td>\n",
       "      <td>6.526405</td>\n",
       "      <td>17.350608</td>\n",
       "      <td>19.420231</td>\n",
       "      <td>23517.566440</td>\n",
       "      <td>0.651542</td>\n",
       "      <td>0.729620</td>\n",
       "      <td>103.353719</td>\n",
       "      <td>0.714535</td>\n",
       "      <td>0.697127</td>\n",
       "      <td>0.034299</td>\n",
       "    </tr>\n",
       "    <tr>\n",
       "      <th>min</th>\n",
       "      <td>0.010000</td>\n",
       "      <td>-74.244171</td>\n",
       "      <td>40.500247</td>\n",
       "      <td>-74.256627</td>\n",
       "      <td>40.502482</td>\n",
       "      <td>0.000000</td>\n",
       "      <td>2009.000000</td>\n",
       "      <td>0.000000</td>\n",
       "      <td>1.000000</td>\n",
       "      <td>0.000000</td>\n",
       "      <td>0.000000</td>\n",
       "      <td>0.000000</td>\n",
       "      <td>0.000000</td>\n",
       "      <td>-1.000000</td>\n",
       "      <td>-1.000000</td>\n",
       "      <td>1.000000</td>\n",
       "      <td>-0.999991</td>\n",
       "      <td>-0.999963</td>\n",
       "      <td>0.000000</td>\n",
       "    </tr>\n",
       "    <tr>\n",
       "      <th>25%</th>\n",
       "      <td>6.000000</td>\n",
       "      <td>-73.992395</td>\n",
       "      <td>40.737345</td>\n",
       "      <td>-73.991623</td>\n",
       "      <td>40.736618</td>\n",
       "      <td>1.000000</td>\n",
       "      <td>2010.000000</td>\n",
       "      <td>2.000000</td>\n",
       "      <td>8.000000</td>\n",
       "      <td>9.000000</td>\n",
       "      <td>15.000000</td>\n",
       "      <td>0.000000</td>\n",
       "      <td>33913.000000</td>\n",
       "      <td>-0.816642</td>\n",
       "      <td>-0.773610</td>\n",
       "      <td>86.000000</td>\n",
       "      <td>-0.674444</td>\n",
       "      <td>-0.708627</td>\n",
       "      <td>0.016175</td>\n",
       "    </tr>\n",
       "    <tr>\n",
       "      <th>50%</th>\n",
       "      <td>8.100000</td>\n",
       "      <td>-73.982267</td>\n",
       "      <td>40.753675</td>\n",
       "      <td>-73.980761</td>\n",
       "      <td>40.754088</td>\n",
       "      <td>1.000000</td>\n",
       "      <td>2012.000000</td>\n",
       "      <td>5.000000</td>\n",
       "      <td>16.000000</td>\n",
       "      <td>14.000000</td>\n",
       "      <td>30.000000</td>\n",
       "      <td>4.000000</td>\n",
       "      <td>52800.000000</td>\n",
       "      <td>-0.337540</td>\n",
       "      <td>-0.097293</td>\n",
       "      <td>166.000000</td>\n",
       "      <td>0.154309</td>\n",
       "      <td>-0.012910</td>\n",
       "      <td>0.027426</td>\n",
       "    </tr>\n",
       "    <tr>\n",
       "      <th>75%</th>\n",
       "      <td>12.000000</td>\n",
       "      <td>-73.969265</td>\n",
       "      <td>40.767605</td>\n",
       "      <td>-73.966213</td>\n",
       "      <td>40.768455</td>\n",
       "      <td>2.000000</td>\n",
       "      <td>2013.000000</td>\n",
       "      <td>8.000000</td>\n",
       "      <td>23.000000</td>\n",
       "      <td>19.000000</td>\n",
       "      <td>45.000000</td>\n",
       "      <td>32.000000</td>\n",
       "      <td>70427.000000</td>\n",
       "      <td>0.362438</td>\n",
       "      <td>0.716403</td>\n",
       "      <td>264.000000</td>\n",
       "      <td>0.758306</td>\n",
       "      <td>0.677615</td>\n",
       "      <td>0.047947</td>\n",
       "    </tr>\n",
       "    <tr>\n",
       "      <th>max</th>\n",
       "      <td>39.330000</td>\n",
       "      <td>-73.705765</td>\n",
       "      <td>40.910962</td>\n",
       "      <td>-73.700763</td>\n",
       "      <td>40.915505</td>\n",
       "      <td>6.000000</td>\n",
       "      <td>2015.000000</td>\n",
       "      <td>11.000000</td>\n",
       "      <td>31.000000</td>\n",
       "      <td>23.000000</td>\n",
       "      <td>59.000000</td>\n",
       "      <td>59.000000</td>\n",
       "      <td>86399.000000</td>\n",
       "      <td>1.000000</td>\n",
       "      <td>1.000000</td>\n",
       "      <td>361.000000</td>\n",
       "      <td>0.999991</td>\n",
       "      <td>0.999852</td>\n",
       "      <td>0.437879</td>\n",
       "    </tr>\n",
       "  </tbody>\n",
       "</table>\n",
       "</div>"
      ],
      "text/plain": [
       "         fare_amount  pickup_longitude  pickup_latitude  dropoff_longitude  \\\n",
       "count  475268.000000     475268.000000    475268.000000      475268.000000   \n",
       "mean       10.107973        -73.977948        40.752018         -73.975957   \n",
       "std         6.291704          0.027272         0.024555           0.028171   \n",
       "min         0.010000        -74.244171        40.500247         -74.256627   \n",
       "25%         6.000000        -73.992395        40.737345         -73.991623   \n",
       "50%         8.100000        -73.982267        40.753675         -73.980761   \n",
       "75%        12.000000        -73.969265        40.767605         -73.966213   \n",
       "max        39.330000        -73.705765        40.910962         -73.700763   \n",
       "\n",
       "       dropoff_latitude  passenger_count          years         months  \\\n",
       "count     475268.000000    475268.000000  475268.000000  475268.000000   \n",
       "mean          40.752164         1.681921    2011.720114       5.260314   \n",
       "std            0.028644         1.305605       1.861543       3.437112   \n",
       "min           40.502482         0.000000    2009.000000       0.000000   \n",
       "25%           40.736618         1.000000    2010.000000       2.000000   \n",
       "50%           40.754088         1.000000    2012.000000       5.000000   \n",
       "75%           40.768455         2.000000    2013.000000       8.000000   \n",
       "max           40.915505         6.000000    2015.000000      11.000000   \n",
       "\n",
       "                days          hours           mins           secs  \\\n",
       "count  475268.000000  475268.000000  475268.000000  475268.000000   \n",
       "mean       15.711525      13.523380      29.604810      15.819801   \n",
       "std         8.687479       6.526405      17.350608      19.420231   \n",
       "min         1.000000       0.000000       0.000000       0.000000   \n",
       "25%         8.000000       9.000000      15.000000       0.000000   \n",
       "50%        16.000000      14.000000      30.000000       4.000000   \n",
       "75%        23.000000      19.000000      45.000000      32.000000   \n",
       "max        31.000000      23.000000      59.000000      59.000000   \n",
       "\n",
       "       secs_past_midnight        sin_spm        cos_spm  days_past_jan1  \\\n",
       "count       475268.000000  475268.000000  475268.000000   475268.000000   \n",
       "mean         50476.278195      -0.203902      -0.039651      173.520950   \n",
       "std          23517.566440       0.651542       0.729620      103.353719   \n",
       "min              0.000000      -1.000000      -1.000000        1.000000   \n",
       "25%          33913.000000      -0.816642      -0.773610       86.000000   \n",
       "50%          52800.000000      -0.337540      -0.097293      166.000000   \n",
       "75%          70427.000000       0.362438       0.716403      264.000000   \n",
       "max          86399.000000       1.000000       1.000000      361.000000   \n",
       "\n",
       "             sin_dpj        cos_dpj  manhattan_dist  \n",
       "count  475268.000000  475268.000000   475268.000000  \n",
       "mean        0.057311      -0.013111        0.038265  \n",
       "std         0.714535       0.697127        0.034299  \n",
       "min        -0.999991      -0.999963        0.000000  \n",
       "25%        -0.674444      -0.708627        0.016175  \n",
       "50%         0.154309      -0.012910        0.027426  \n",
       "75%         0.758306       0.677615        0.047947  \n",
       "max         0.999991       0.999852        0.437879  "
      ]
     },
     "execution_count": 23,
     "metadata": {},
     "output_type": "execute_result"
    }
   ],
   "source": [
    "chunks[0].to_csv('preprocessed.csv')\n",
    "chunk1 = pd.read_csv('preprocessed.csv')\n",
    "chunks.append(chunk1)\n",
    "chunks[1].head()\n",
    "chunks[0].describe()"
   ]
  },
  {
   "cell_type": "code",
   "execution_count": 24,
   "metadata": {},
   "outputs": [],
   "source": [
    "# indices = detect_outlier(chunks[1]['fare_amount'])\n",
    "# for i in indices:\n",
    "#     chunks[1] = chunks[1].drop([i])\n",
    "#     print(i)"
   ]
  },
  {
   "cell_type": "code",
   "execution_count": 25,
   "metadata": {},
   "outputs": [],
   "source": [
    "chunks[1].to_csv('preprocessed1.csv')\n",
    "chunks.append(pd.read_csv('preprocessed1.csv'))"
   ]
  },
  {
   "cell_type": "markdown",
   "metadata": {},
   "source": [
    "# Restricting coordinates to NYC\n",
    "\n",
    "All coordinates outside NYC are directly dropped"
   ]
  },
  {
   "cell_type": "markdown",
   "metadata": {},
   "source": [
    "# Removing all rows with null values"
   ]
  },
  {
   "cell_type": "code",
   "execution_count": 26,
   "metadata": {},
   "outputs": [],
   "source": [
    "# type(chunks[0])\n",
    "# print(chunks[0].isnull().sum())\n",
    "# chunks[0].dropna(inplace = True)\n",
    "# print(chunks[0].isnull().sum())\n",
    "# chunks[0]['pickup_datetime'][0]\n",
    "# chunks[0].describe()\n",
    "# type(chunks[0]['dropoff_longitude'][161652])"
   ]
  },
  {
   "cell_type": "markdown",
   "metadata": {},
   "source": [
    "# Splitting pickup date time "
   ]
  },
  {
   "cell_type": "markdown",
   "metadata": {},
   "source": [
    "# Generating secs after midnight and days past jan 1st"
   ]
  },
  {
   "cell_type": "code",
   "execution_count": 27,
   "metadata": {},
   "outputs": [
    {
     "data": {
      "text/html": [
       "<div>\n",
       "<style scoped>\n",
       "    .dataframe tbody tr th:only-of-type {\n",
       "        vertical-align: middle;\n",
       "    }\n",
       "\n",
       "    .dataframe tbody tr th {\n",
       "        vertical-align: top;\n",
       "    }\n",
       "\n",
       "    .dataframe thead th {\n",
       "        text-align: right;\n",
       "    }\n",
       "</style>\n",
       "<table border=\"1\" class=\"dataframe\">\n",
       "  <thead>\n",
       "    <tr style=\"text-align: right;\">\n",
       "      <th></th>\n",
       "      <th>Unnamed: 0</th>\n",
       "      <th>key</th>\n",
       "      <th>fare_amount</th>\n",
       "      <th>pickup_datetime</th>\n",
       "      <th>pickup_longitude</th>\n",
       "      <th>pickup_latitude</th>\n",
       "      <th>dropoff_longitude</th>\n",
       "      <th>dropoff_latitude</th>\n",
       "      <th>passenger_count</th>\n",
       "      <th>years</th>\n",
       "      <th>...</th>\n",
       "      <th>hours</th>\n",
       "      <th>mins</th>\n",
       "      <th>secs</th>\n",
       "      <th>secs_past_midnight</th>\n",
       "      <th>sin_spm</th>\n",
       "      <th>cos_spm</th>\n",
       "      <th>days_past_jan1</th>\n",
       "      <th>sin_dpj</th>\n",
       "      <th>cos_dpj</th>\n",
       "      <th>manhattan_dist</th>\n",
       "    </tr>\n",
       "  </thead>\n",
       "  <tbody>\n",
       "    <tr>\n",
       "      <th>0</th>\n",
       "      <td>0</td>\n",
       "      <td>2014-09-27 15:26:00.00000043</td>\n",
       "      <td>7.5</td>\n",
       "      <td>2014-09-27 15:26:00 UTC</td>\n",
       "      <td>-73.978463</td>\n",
       "      <td>40.759072</td>\n",
       "      <td>-73.963577</td>\n",
       "      <td>40.774255</td>\n",
       "      <td>1</td>\n",
       "      <td>2014</td>\n",
       "      <td>...</td>\n",
       "      <td>15</td>\n",
       "      <td>26</td>\n",
       "      <td>0</td>\n",
       "      <td>55560</td>\n",
       "      <td>-0.782608</td>\n",
       "      <td>-0.622515</td>\n",
       "      <td>267</td>\n",
       "      <td>-0.993257</td>\n",
       "      <td>-0.115935</td>\n",
       "      <td>0.030069</td>\n",
       "    </tr>\n",
       "    <tr>\n",
       "      <th>1</th>\n",
       "      <td>1</td>\n",
       "      <td>2012-05-07 07:57:00.000000142</td>\n",
       "      <td>6.5</td>\n",
       "      <td>2012-05-07 07:57:00 UTC</td>\n",
       "      <td>-73.982397</td>\n",
       "      <td>40.770245</td>\n",
       "      <td>-73.972450</td>\n",
       "      <td>40.764062</td>\n",
       "      <td>1</td>\n",
       "      <td>2012</td>\n",
       "      <td>...</td>\n",
       "      <td>7</td>\n",
       "      <td>57</td>\n",
       "      <td>0</td>\n",
       "      <td>28620</td>\n",
       "      <td>0.872496</td>\n",
       "      <td>-0.488621</td>\n",
       "      <td>127</td>\n",
       "      <td>0.816538</td>\n",
       "      <td>-0.577292</td>\n",
       "      <td>0.016130</td>\n",
       "    </tr>\n",
       "    <tr>\n",
       "      <th>2</th>\n",
       "      <td>2</td>\n",
       "      <td>2009-05-05 20:02:36.0000005</td>\n",
       "      <td>12.9</td>\n",
       "      <td>2009-05-05 20:02:36 UTC</td>\n",
       "      <td>-74.006507</td>\n",
       "      <td>40.718808</td>\n",
       "      <td>-73.961096</td>\n",
       "      <td>40.760711</td>\n",
       "      <td>1</td>\n",
       "      <td>2009</td>\n",
       "      <td>...</td>\n",
       "      <td>20</td>\n",
       "      <td>2</td>\n",
       "      <td>36</td>\n",
       "      <td>72156</td>\n",
       "      <td>-0.860297</td>\n",
       "      <td>0.509792</td>\n",
       "      <td>125</td>\n",
       "      <td>0.835925</td>\n",
       "      <td>-0.548843</td>\n",
       "      <td>0.087314</td>\n",
       "    </tr>\n",
       "    <tr>\n",
       "      <th>3</th>\n",
       "      <td>3</td>\n",
       "      <td>2010-07-15 22:57:00.00000042</td>\n",
       "      <td>20.1</td>\n",
       "      <td>2010-07-15 22:57:00 UTC</td>\n",
       "      <td>-73.999242</td>\n",
       "      <td>40.734165</td>\n",
       "      <td>-73.972597</td>\n",
       "      <td>40.751228</td>\n",
       "      <td>2</td>\n",
       "      <td>2010</td>\n",
       "      <td>...</td>\n",
       "      <td>22</td>\n",
       "      <td>57</td>\n",
       "      <td>0</td>\n",
       "      <td>82620</td>\n",
       "      <td>-0.271440</td>\n",
       "      <td>0.962455</td>\n",
       "      <td>195</td>\n",
       "      <td>-0.213521</td>\n",
       "      <td>-0.976938</td>\n",
       "      <td>0.043708</td>\n",
       "    </tr>\n",
       "    <tr>\n",
       "      <th>4</th>\n",
       "      <td>4</td>\n",
       "      <td>2010-08-31 13:15:00.00000028</td>\n",
       "      <td>4.1</td>\n",
       "      <td>2010-08-31 13:15:00 UTC</td>\n",
       "      <td>-73.977750</td>\n",
       "      <td>40.746274</td>\n",
       "      <td>-73.972760</td>\n",
       "      <td>40.755768</td>\n",
       "      <td>1</td>\n",
       "      <td>2010</td>\n",
       "      <td>...</td>\n",
       "      <td>13</td>\n",
       "      <td>15</td>\n",
       "      <td>0</td>\n",
       "      <td>47700</td>\n",
       "      <td>-0.321439</td>\n",
       "      <td>-0.946930</td>\n",
       "      <td>241</td>\n",
       "      <td>-0.845249</td>\n",
       "      <td>-0.534373</td>\n",
       "      <td>0.014484</td>\n",
       "    </tr>\n",
       "  </tbody>\n",
       "</table>\n",
       "<p>5 rows × 22 columns</p>\n",
       "</div>"
      ],
      "text/plain": [
       "   Unnamed: 0                            key  fare_amount  \\\n",
       "0           0   2014-09-27 15:26:00.00000043          7.5   \n",
       "1           1  2012-05-07 07:57:00.000000142          6.5   \n",
       "2           2    2009-05-05 20:02:36.0000005         12.9   \n",
       "3           3   2010-07-15 22:57:00.00000042         20.1   \n",
       "4           4   2010-08-31 13:15:00.00000028          4.1   \n",
       "\n",
       "           pickup_datetime  pickup_longitude  pickup_latitude  \\\n",
       "0  2014-09-27 15:26:00 UTC        -73.978463        40.759072   \n",
       "1  2012-05-07 07:57:00 UTC        -73.982397        40.770245   \n",
       "2  2009-05-05 20:02:36 UTC        -74.006507        40.718808   \n",
       "3  2010-07-15 22:57:00 UTC        -73.999242        40.734165   \n",
       "4  2010-08-31 13:15:00 UTC        -73.977750        40.746274   \n",
       "\n",
       "   dropoff_longitude  dropoff_latitude  passenger_count  years  ...  hours  \\\n",
       "0         -73.963577         40.774255                1   2014  ...     15   \n",
       "1         -73.972450         40.764062                1   2012  ...      7   \n",
       "2         -73.961096         40.760711                1   2009  ...     20   \n",
       "3         -73.972597         40.751228                2   2010  ...     22   \n",
       "4         -73.972760         40.755768                1   2010  ...     13   \n",
       "\n",
       "   mins  secs  secs_past_midnight   sin_spm   cos_spm  days_past_jan1  \\\n",
       "0    26     0               55560 -0.782608 -0.622515             267   \n",
       "1    57     0               28620  0.872496 -0.488621             127   \n",
       "2     2    36               72156 -0.860297  0.509792             125   \n",
       "3    57     0               82620 -0.271440  0.962455             195   \n",
       "4    15     0               47700 -0.321439 -0.946930             241   \n",
       "\n",
       "    sin_dpj   cos_dpj  manhattan_dist  \n",
       "0 -0.993257 -0.115935        0.030069  \n",
       "1  0.816538 -0.577292        0.016130  \n",
       "2  0.835925 -0.548843        0.087314  \n",
       "3 -0.213521 -0.976938        0.043708  \n",
       "4 -0.845249 -0.534373        0.014484  \n",
       "\n",
       "[5 rows x 22 columns]"
      ]
     },
     "execution_count": 27,
     "metadata": {},
     "output_type": "execute_result"
    }
   ],
   "source": [
    "# chunks[0] = chunks[0].drop(['Unnamed: 0', 'Unnamed: 0.1'], axis = 1)\n",
    "chunks[1].head()"
   ]
  },
  {
   "cell_type": "code",
   "execution_count": 28,
   "metadata": {},
   "outputs": [],
   "source": [
    "# chunks[0]['manhattan_dist'] = abs(chunks[0]['pickup_latitude']-chunks[0]['dropoff_latitude']) + abs(chunks[0]['pickup_longitude']-chunks[0]['dropoff_longitude'])"
   ]
  },
  {
   "cell_type": "code",
   "execution_count": 29,
   "metadata": {},
   "outputs": [
    {
     "data": {
      "text/html": [
       "<div>\n",
       "<style scoped>\n",
       "    .dataframe tbody tr th:only-of-type {\n",
       "        vertical-align: middle;\n",
       "    }\n",
       "\n",
       "    .dataframe tbody tr th {\n",
       "        vertical-align: top;\n",
       "    }\n",
       "\n",
       "    .dataframe thead th {\n",
       "        text-align: right;\n",
       "    }\n",
       "</style>\n",
       "<table border=\"1\" class=\"dataframe\">\n",
       "  <thead>\n",
       "    <tr style=\"text-align: right;\">\n",
       "      <th></th>\n",
       "      <th>key</th>\n",
       "      <th>fare_amount</th>\n",
       "      <th>pickup_datetime</th>\n",
       "      <th>pickup_longitude</th>\n",
       "      <th>pickup_latitude</th>\n",
       "      <th>dropoff_longitude</th>\n",
       "      <th>dropoff_latitude</th>\n",
       "      <th>passenger_count</th>\n",
       "      <th>years</th>\n",
       "      <th>months</th>\n",
       "      <th>...</th>\n",
       "      <th>hours</th>\n",
       "      <th>mins</th>\n",
       "      <th>secs</th>\n",
       "      <th>secs_past_midnight</th>\n",
       "      <th>sin_spm</th>\n",
       "      <th>cos_spm</th>\n",
       "      <th>days_past_jan1</th>\n",
       "      <th>sin_dpj</th>\n",
       "      <th>cos_dpj</th>\n",
       "      <th>manhattan_dist</th>\n",
       "    </tr>\n",
       "  </thead>\n",
       "  <tbody>\n",
       "    <tr>\n",
       "      <th>0</th>\n",
       "      <td>2014-09-27 15:26:00.00000043</td>\n",
       "      <td>7.5</td>\n",
       "      <td>2014-09-27 15:26:00 UTC</td>\n",
       "      <td>-73.978463</td>\n",
       "      <td>40.759072</td>\n",
       "      <td>-73.963577</td>\n",
       "      <td>40.774255</td>\n",
       "      <td>1</td>\n",
       "      <td>2014</td>\n",
       "      <td>8</td>\n",
       "      <td>...</td>\n",
       "      <td>15</td>\n",
       "      <td>26</td>\n",
       "      <td>0</td>\n",
       "      <td>55560</td>\n",
       "      <td>-0.782608</td>\n",
       "      <td>-0.622515</td>\n",
       "      <td>267</td>\n",
       "      <td>-0.993257</td>\n",
       "      <td>-0.115935</td>\n",
       "      <td>0.030069</td>\n",
       "    </tr>\n",
       "    <tr>\n",
       "      <th>1</th>\n",
       "      <td>2012-05-07 07:57:00.000000142</td>\n",
       "      <td>6.5</td>\n",
       "      <td>2012-05-07 07:57:00 UTC</td>\n",
       "      <td>-73.982397</td>\n",
       "      <td>40.770245</td>\n",
       "      <td>-73.972450</td>\n",
       "      <td>40.764062</td>\n",
       "      <td>1</td>\n",
       "      <td>2012</td>\n",
       "      <td>4</td>\n",
       "      <td>...</td>\n",
       "      <td>7</td>\n",
       "      <td>57</td>\n",
       "      <td>0</td>\n",
       "      <td>28620</td>\n",
       "      <td>0.872496</td>\n",
       "      <td>-0.488621</td>\n",
       "      <td>127</td>\n",
       "      <td>0.816538</td>\n",
       "      <td>-0.577292</td>\n",
       "      <td>0.016130</td>\n",
       "    </tr>\n",
       "    <tr>\n",
       "      <th>2</th>\n",
       "      <td>2009-05-05 20:02:36.0000005</td>\n",
       "      <td>12.9</td>\n",
       "      <td>2009-05-05 20:02:36 UTC</td>\n",
       "      <td>-74.006507</td>\n",
       "      <td>40.718808</td>\n",
       "      <td>-73.961096</td>\n",
       "      <td>40.760711</td>\n",
       "      <td>1</td>\n",
       "      <td>2009</td>\n",
       "      <td>4</td>\n",
       "      <td>...</td>\n",
       "      <td>20</td>\n",
       "      <td>2</td>\n",
       "      <td>36</td>\n",
       "      <td>72156</td>\n",
       "      <td>-0.860297</td>\n",
       "      <td>0.509792</td>\n",
       "      <td>125</td>\n",
       "      <td>0.835925</td>\n",
       "      <td>-0.548843</td>\n",
       "      <td>0.087314</td>\n",
       "    </tr>\n",
       "    <tr>\n",
       "      <th>3</th>\n",
       "      <td>2010-07-15 22:57:00.00000042</td>\n",
       "      <td>20.1</td>\n",
       "      <td>2010-07-15 22:57:00 UTC</td>\n",
       "      <td>-73.999242</td>\n",
       "      <td>40.734165</td>\n",
       "      <td>-73.972597</td>\n",
       "      <td>40.751228</td>\n",
       "      <td>2</td>\n",
       "      <td>2010</td>\n",
       "      <td>6</td>\n",
       "      <td>...</td>\n",
       "      <td>22</td>\n",
       "      <td>57</td>\n",
       "      <td>0</td>\n",
       "      <td>82620</td>\n",
       "      <td>-0.271440</td>\n",
       "      <td>0.962455</td>\n",
       "      <td>195</td>\n",
       "      <td>-0.213521</td>\n",
       "      <td>-0.976938</td>\n",
       "      <td>0.043708</td>\n",
       "    </tr>\n",
       "    <tr>\n",
       "      <th>4</th>\n",
       "      <td>2010-08-31 13:15:00.00000028</td>\n",
       "      <td>4.1</td>\n",
       "      <td>2010-08-31 13:15:00 UTC</td>\n",
       "      <td>-73.977750</td>\n",
       "      <td>40.746274</td>\n",
       "      <td>-73.972760</td>\n",
       "      <td>40.755768</td>\n",
       "      <td>1</td>\n",
       "      <td>2010</td>\n",
       "      <td>7</td>\n",
       "      <td>...</td>\n",
       "      <td>13</td>\n",
       "      <td>15</td>\n",
       "      <td>0</td>\n",
       "      <td>47700</td>\n",
       "      <td>-0.321439</td>\n",
       "      <td>-0.946930</td>\n",
       "      <td>241</td>\n",
       "      <td>-0.845249</td>\n",
       "      <td>-0.534373</td>\n",
       "      <td>0.014484</td>\n",
       "    </tr>\n",
       "  </tbody>\n",
       "</table>\n",
       "<p>5 rows × 21 columns</p>\n",
       "</div>"
      ],
      "text/plain": [
       "                             key  fare_amount          pickup_datetime  \\\n",
       "0   2014-09-27 15:26:00.00000043          7.5  2014-09-27 15:26:00 UTC   \n",
       "1  2012-05-07 07:57:00.000000142          6.5  2012-05-07 07:57:00 UTC   \n",
       "2    2009-05-05 20:02:36.0000005         12.9  2009-05-05 20:02:36 UTC   \n",
       "3   2010-07-15 22:57:00.00000042         20.1  2010-07-15 22:57:00 UTC   \n",
       "4   2010-08-31 13:15:00.00000028          4.1  2010-08-31 13:15:00 UTC   \n",
       "\n",
       "   pickup_longitude  pickup_latitude  dropoff_longitude  dropoff_latitude  \\\n",
       "0        -73.978463        40.759072         -73.963577         40.774255   \n",
       "1        -73.982397        40.770245         -73.972450         40.764062   \n",
       "2        -74.006507        40.718808         -73.961096         40.760711   \n",
       "3        -73.999242        40.734165         -73.972597         40.751228   \n",
       "4        -73.977750        40.746274         -73.972760         40.755768   \n",
       "\n",
       "   passenger_count  years  months  ...  hours  mins  secs  secs_past_midnight  \\\n",
       "0                1   2014       8  ...     15    26     0               55560   \n",
       "1                1   2012       4  ...      7    57     0               28620   \n",
       "2                1   2009       4  ...     20     2    36               72156   \n",
       "3                2   2010       6  ...     22    57     0               82620   \n",
       "4                1   2010       7  ...     13    15     0               47700   \n",
       "\n",
       "    sin_spm   cos_spm  days_past_jan1   sin_dpj   cos_dpj  manhattan_dist  \n",
       "0 -0.782608 -0.622515             267 -0.993257 -0.115935        0.030069  \n",
       "1  0.872496 -0.488621             127  0.816538 -0.577292        0.016130  \n",
       "2 -0.860297  0.509792             125  0.835925 -0.548843        0.087314  \n",
       "3 -0.271440  0.962455             195 -0.213521 -0.976938        0.043708  \n",
       "4 -0.321439 -0.946930             241 -0.845249 -0.534373        0.014484  \n",
       "\n",
       "[5 rows x 21 columns]"
      ]
     },
     "execution_count": 29,
     "metadata": {},
     "output_type": "execute_result"
    }
   ],
   "source": [
    "chunks[0].head()"
   ]
  },
  {
   "cell_type": "code",
   "execution_count": 30,
   "metadata": {},
   "outputs": [],
   "source": [
    "# features = chunks[0].drop(['fare_amount','key','pickup_datetime', 'years', 'months', 'days', 'hours', 'mins', 'secs', 'secs_past_midnight', 'days_past_jan1'], axis = 1)\n",
    "# target = chunks[0]['fare_amount']\n",
    "# features = StandardScaler().fit_transform(features)\n",
    "\n",
    "# pca = PCA(n_components=6)\n",
    "# principalComponents = pca.fit_transform(features)\n",
    "# principalDf = pd.DataFrame(data = principalComponents, columns = ['PrincipalC1', 'PrincipalC2', 'PrincipalC3','PrincipalC4', 'PrincipalC5', 'PrincipalC6'])\n",
    "# finalDf = pd.concat([principalDf, target], axis=1)\n",
    "# finalDf.head()\n",
    "# chunks[0].head()"
   ]
  },
  {
   "cell_type": "markdown",
   "metadata": {},
   "source": []
  },
  {
   "cell_type": "markdown",
   "metadata": {},
   "source": [
    "# Generating X and y"
   ]
  },
  {
   "cell_type": "markdown",
   "metadata": {},
   "source": [
    "# Test train split & Linear Regression & RMSE"
   ]
  },
  {
   "cell_type": "code",
   "execution_count": 31,
   "metadata": {},
   "outputs": [
    {
     "ename": "NameError",
     "evalue": "name 'X_train' is not defined",
     "output_type": "error",
     "traceback": [
      "\u001b[0;31m---------------------------------------------------------------------------\u001b[0m",
      "\u001b[0;31mNameError\u001b[0m                                 Traceback (most recent call last)",
      "\u001b[0;32m<ipython-input-31-be6978a8fe85>\u001b[0m in \u001b[0;36m<module>\u001b[0;34m\u001b[0m\n\u001b[0;32m----> 1\u001b[0;31m \u001b[0mprint\u001b[0m\u001b[0;34m(\u001b[0m\u001b[0mX_train\u001b[0m\u001b[0;34m.\u001b[0m\u001b[0mshape\u001b[0m\u001b[0;34m)\u001b[0m\u001b[0;34m\u001b[0m\u001b[0m\n\u001b[0m\u001b[1;32m      2\u001b[0m \u001b[0mprint\u001b[0m\u001b[0;34m(\u001b[0m\u001b[0my_train\u001b[0m\u001b[0;34m.\u001b[0m\u001b[0mshape\u001b[0m\u001b[0;34m)\u001b[0m\u001b[0;34m\u001b[0m\u001b[0m\n\u001b[1;32m      3\u001b[0m \u001b[0mprint\u001b[0m\u001b[0;34m(\u001b[0m\u001b[0mX_test\u001b[0m\u001b[0;34m.\u001b[0m\u001b[0mshape\u001b[0m\u001b[0;34m)\u001b[0m\u001b[0;34m\u001b[0m\u001b[0m\n\u001b[1;32m      4\u001b[0m \u001b[0mprint\u001b[0m\u001b[0;34m(\u001b[0m\u001b[0my_test\u001b[0m\u001b[0;34m.\u001b[0m\u001b[0mshape\u001b[0m\u001b[0;34m)\u001b[0m\u001b[0;34m\u001b[0m\u001b[0m\n\u001b[1;32m      5\u001b[0m \u001b[0;34m\u001b[0m\u001b[0m\n",
      "\u001b[0;31mNameError\u001b[0m: name 'X_train' is not defined"
     ]
    }
   ],
   "source": [
    "print(X_train.shape)\n",
    "print(y_train.shape)\n",
    "print(X_test.shape)\n",
    "print(y_test.shape)\n",
    "\n",
    "# print(X1_train.shape)\n",
    "# print(y1_train.shape)\n",
    "# print(X1_test.shape)\n",
    "# print(y1_test.shape)"
   ]
  },
  {
   "cell_type": "markdown",
   "metadata": {},
   "source": [
    "# Applying Linear Regression"
   ]
  },
  {
   "cell_type": "code",
   "execution_count": null,
   "metadata": {},
   "outputs": [],
   "source": [
    "linreg = LinearRegression()\n",
    "linreg.fit(X_train, y_train)"
   ]
  },
  {
   "cell_type": "code",
   "execution_count": null,
   "metadata": {},
   "outputs": [],
   "source": [
    "# linreg1 = LinearRegression()\n",
    "# linreg1.fit(X1_train, y1_train)"
   ]
  },
  {
   "cell_type": "markdown",
   "metadata": {},
   "source": [
    "## Predicting outputs"
   ]
  },
  {
   "cell_type": "code",
   "execution_count": null,
   "metadata": {},
   "outputs": [],
   "source": [
    "y_pred = linreg.predict(X_test)\n",
    "# y1_pred = linreg1.predict(X1_test)"
   ]
  },
  {
   "cell_type": "markdown",
   "metadata": {},
   "source": [
    "## Generating RMSE"
   ]
  },
  {
   "cell_type": "code",
   "execution_count": null,
   "metadata": {},
   "outputs": [],
   "source": [
    "print(\"Without PCA: \", np.sqrt(metrics.mean_squared_error(y_test, y_pred)))\n",
    "# print(\"With PCA: \", np.sqrt(metrics.mean_squared_error(y1_test, y1_pred)))"
   ]
  },
  {
   "cell_type": "code",
   "execution_count": null,
   "metadata": {},
   "outputs": [],
   "source": []
  },
  {
   "cell_type": "code",
   "execution_count": null,
   "metadata": {},
   "outputs": [],
   "source": []
  }
 ],
 "metadata": {
  "kernelspec": {
   "display_name": "Python 3",
   "language": "python",
   "name": "python3"
  },
  "language_info": {
   "codemirror_mode": {
    "name": "ipython",
    "version": 3
   },
   "file_extension": ".py",
   "mimetype": "text/x-python",
   "name": "python",
   "nbconvert_exporter": "python",
   "pygments_lexer": "ipython3",
   "version": "3.6.3"
  }
 },
 "nbformat": 4,
 "nbformat_minor": 2
}
