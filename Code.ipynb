{
 "cells": [
  {
   "cell_type": "code",
   "execution_count": 1,
   "metadata": {},
   "outputs": [],
   "source": [
    "import numpy as np\n",
    "import pandas as pd\n",
    "import matplotlib.pyplot as plt\n",
    "import seaborn as sns\n",
    "from sklearn.preprocessing import LabelEncoder, OneHotEncoder\n",
    "from sklearn.preprocessing import StandardScaler\n",
    "from sklearn.model_selection import train_test_split\n",
    "from sklearn.utils import shuffle\n",
    "from sklearn.decomposition import PCA\n",
    "from sklearn.linear_model import LogisticRegression\n",
    "from sklearn.metrics import confusion_matrix\n",
    "# import warnings\n",
    "# warnings.filterwarnings(\"ignore\")"
   ]
  },
  {
   "cell_type": "code",
   "execution_count": 2,
   "metadata": {},
   "outputs": [],
   "source": [
    "df_chunk = pd.read_csv('train.csv', chunksize = 1000000, low_memory = False)\n",
    "# chunk_list = []\n",
    "count = 0\n",
    "chunks = []\n",
    "for chunk in df_chunk:\n",
    "    #print(chunk.head(25))\n",
    "#     print(chunk.describe())\n",
    "#     print(chunk.isnull().sum())\n",
    "    chunks.append(pd.DataFrame(chunk))\n",
    "    count += 1\n",
    "    break\n",
    "# print(count)\n",
    "# df_concat = pd.concat(chunk_list)"
   ]
  },
  {
   "cell_type": "code",
   "execution_count": 18,
   "metadata": {},
   "outputs": [
    {
     "ename": "AttributeError",
     "evalue": "'TextFileReader' object has no attribute 'dtypes'",
     "output_type": "error",
     "traceback": [
      "\u001b[0;31m---------------------------------------------------------------------------\u001b[0m",
      "\u001b[0;31mAttributeError\u001b[0m                            Traceback (most recent call last)",
      "\u001b[0;32m<ipython-input-18-557d06aff1ba>\u001b[0m in \u001b[0;36m<module>\u001b[0;34m\u001b[0m\n\u001b[0;32m----> 1\u001b[0;31m \u001b[0mdf_chunk\u001b[0m\u001b[0;34m.\u001b[0m\u001b[0mdtypes\u001b[0m\u001b[0;34m(\u001b[0m\u001b[0;34m)\u001b[0m\u001b[0;34m\u001b[0m\u001b[0;34m\u001b[0m\u001b[0m\n\u001b[0m",
      "\u001b[0;31mAttributeError\u001b[0m: 'TextFileReader' object has no attribute 'dtypes'"
     ]
    }
   ],
   "source": [
    "pd.DataFrame(df_chunk.dtypes()"
   ]
  },
  {
   "cell_type": "code",
   "execution_count": 3,
   "metadata": {},
   "outputs": [
    {
     "name": "stdout",
     "output_type": "stream",
     "text": [
      "          fare_amount  pickup_longitude  pickup_latitude  dropoff_longitude  \\\n",
      "count  1000000.000000    1000000.000000   1000000.000000      999991.000000   \n",
      "mean        11.343352        -72.521310        39.925188         -72.518306   \n",
      "std          9.807783         13.036747         7.901750          13.401471   \n",
      "min        -62.000000      -3007.205450     -3458.664702       -3383.296608   \n",
      "25%          6.000000        -73.992092        40.734898         -73.991392   \n",
      "50%          8.500000        -73.981823        40.752657         -73.980150   \n",
      "75%         12.500000        -73.967111        40.767103         -73.963687   \n",
      "max        495.000000       2434.238557      2009.266280        3382.125693   \n",
      "\n",
      "       dropoff_latitude  passenger_count  \n",
      "count     999991.000000   1000000.000000  \n",
      "mean          39.925168         1.683403  \n",
      "std           11.382385         1.306486  \n",
      "min        -3461.540872         0.000000  \n",
      "25%           40.734000         1.000000  \n",
      "50%           40.753122         1.000000  \n",
      "75%           40.768102         2.000000  \n",
      "max         3345.917353         6.000000  \n"
     ]
    }
   ],
   "source": [
    "print(chunks[0].describe())\n",
    "\n"
   ]
  },
  {
   "cell_type": "code",
   "execution_count": 4,
   "metadata": {},
   "outputs": [
    {
     "name": "stdout",
     "output_type": "stream",
     "text": [
      "key                  0\n",
      "fare_amount          0\n",
      "pickup_datetime      0\n",
      "pickup_longitude     0\n",
      "pickup_latitude      0\n",
      "dropoff_longitude    9\n",
      "dropoff_latitude     9\n",
      "passenger_count      0\n",
      "dtype: int64\n"
     ]
    }
   ],
   "source": [
    "print(chunks[0].isnull().sum())"
   ]
  },
  {
   "cell_type": "code",
   "execution_count": 16,
   "metadata": {},
   "outputs": [
    {
     "data": {
      "text/html": [
       "<div>\n",
       "<style scoped>\n",
       "    .dataframe tbody tr th:only-of-type {\n",
       "        vertical-align: middle;\n",
       "    }\n",
       "\n",
       "    .dataframe tbody tr th {\n",
       "        vertical-align: top;\n",
       "    }\n",
       "\n",
       "    .dataframe thead th {\n",
       "        text-align: right;\n",
       "    }\n",
       "</style>\n",
       "<table border=\"1\" class=\"dataframe\">\n",
       "  <thead>\n",
       "    <tr style=\"text-align: right;\">\n",
       "      <th></th>\n",
       "      <th>key</th>\n",
       "      <th>fare_amount</th>\n",
       "      <th>pickup_datetime</th>\n",
       "      <th>pickup_longitude</th>\n",
       "      <th>pickup_latitude</th>\n",
       "      <th>dropoff_longitude</th>\n",
       "      <th>dropoff_latitude</th>\n",
       "      <th>passenger_count</th>\n",
       "    </tr>\n",
       "  </thead>\n",
       "  <tbody>\n",
       "    <tr>\n",
       "      <th>0</th>\n",
       "      <td>2010-10-20 23:26:26.0000003</td>\n",
       "      <td>4.5</td>\n",
       "      <td>2010-10-20 23:26:26 UTC</td>\n",
       "      <td>-73.98691</td>\n",
       "      <td>40.739538</td>\n",
       "      <td>-73.991381</td>\n",
       "      <td>40.745614</td>\n",
       "      <td>2</td>\n",
       "    </tr>\n",
       "    <tr>\n",
       "      <th>1</th>\n",
       "      <td>2009-12-30 10:56:00.00000075</td>\n",
       "      <td>4.1</td>\n",
       "      <td>2009-12-30 10:56:00 UTC</td>\n",
       "      <td>-73.961572</td>\n",
       "      <td>40.760283</td>\n",
       "      <td>-73.957438</td>\n",
       "      <td>40.769387</td>\n",
       "      <td>5</td>\n",
       "    </tr>\n",
       "    <tr>\n",
       "      <th>2</th>\n",
       "      <td>2012-07-20 11:24:00.00000022</td>\n",
       "      <td>6.1</td>\n",
       "      <td>2012-07-20 11:24:00 UTC</td>\n",
       "      <td>-73.979437</td>\n",
       "      <td>40.746517</td>\n",
       "      <td>-73.984195</td>\n",
       "      <td>40.732116999999995</td>\n",
       "      <td>1</td>\n",
       "    </tr>\n",
       "    <tr>\n",
       "      <th>3</th>\n",
       "      <td>2011-05-31 11:29:00.000000136</td>\n",
       "      <td>4.9</td>\n",
       "      <td>2011-05-31 11:29:00 UTC</td>\n",
       "      <td>-73.964097</td>\n",
       "      <td>40.792508000000005</td>\n",
       "      <td>-73.976422</td>\n",
       "      <td>40.785767</td>\n",
       "      <td>1</td>\n",
       "    </tr>\n",
       "    <tr>\n",
       "      <th>4</th>\n",
       "      <td>2010-05-25 17:57:00.000000145</td>\n",
       "      <td>6.5</td>\n",
       "      <td>2010-05-25 17:57:00 UTC</td>\n",
       "      <td>-74.003943</td>\n",
       "      <td>40.72567</td>\n",
       "      <td>-73.988915</td>\n",
       "      <td>40.74837</td>\n",
       "      <td>1</td>\n",
       "    </tr>\n",
       "  </tbody>\n",
       "</table>\n",
       "</div>"
      ],
      "text/plain": [
       "                             key fare_amount          pickup_datetime  \\\n",
       "0    2010-10-20 23:26:26.0000003         4.5  2010-10-20 23:26:26 UTC   \n",
       "1   2009-12-30 10:56:00.00000075         4.1  2009-12-30 10:56:00 UTC   \n",
       "2   2012-07-20 11:24:00.00000022         6.1  2012-07-20 11:24:00 UTC   \n",
       "3  2011-05-31 11:29:00.000000136         4.9  2011-05-31 11:29:00 UTC   \n",
       "4  2010-05-25 17:57:00.000000145         6.5  2010-05-25 17:57:00 UTC   \n",
       "\n",
       "  pickup_longitude     pickup_latitude dropoff_longitude    dropoff_latitude  \\\n",
       "0        -73.98691           40.739538        -73.991381           40.745614   \n",
       "1       -73.961572           40.760283        -73.957438           40.769387   \n",
       "2       -73.979437           40.746517        -73.984195  40.732116999999995   \n",
       "3       -73.964097  40.792508000000005        -73.976422           40.785767   \n",
       "4       -74.003943            40.72567        -73.988915            40.74837   \n",
       "\n",
       "  passenger_count  \n",
       "0               2  \n",
       "1               5  \n",
       "2               1  \n",
       "3               1  \n",
       "4               1  "
      ]
     },
     "execution_count": 16,
     "metadata": {},
     "output_type": "execute_result"
    }
   ],
   "source": [
    "chunks[0].head()"
   ]
  },
  {
   "cell_type": "code",
   "execution_count": 20,
   "metadata": {},
   "outputs": [
    {
     "name": "stdout",
     "output_type": "stream",
     "text": [
      "AxesSubplot(0.125,0.125;0.775x0.755)\n"
     ]
    },
    {
     "data": {
      "image/png": "[encoded data removed]",
      "text/plain": [
       "<Figure size 432x288 with 1 Axes>"
      ]
     },
     "metadata": {
      "needs_background": "light"
     },
     "output_type": "display_data"
    }
   ],
   "source": [
    "fig, ax = plt.subplots()\n",
    "print(chunks[0][\"pickup_longitude\"].plot.hist(ax = ax, title=\"pickup longitude\",bottom=1, bins=1))\n",
    "# plot1 = chunks[0]['pickup_longitude']\n",
    "# plot1.plot.hist(grid=True, bins=1, rwidth=0.9, color='#607c8e')\n",
    "# plt.xlabel('Pregnancies')\n",
    "# plt.grid(axis='y')"
   ]
  },
  {
   "cell_type": "code",
   "execution_count": null,
   "metadata": {},
   "outputs": [],
   "source": []
  }
 ],
 "metadata": {
  "kernelspec": {
   "display_name": "Python 3",
   "language": "python",
   "name": "python3"
  },
  "language_info": {
   "codemirror_mode": {
    "name": "ipython",
    "version": 3
   },
   "file_extension": ".py",
   "mimetype": "text/x-python",
   "name": "python",
   "nbconvert_exporter": "python",
   "pygments_lexer": "ipython3",
   "version": "3.6.8"
  }
 },
 "nbformat": 4,
 "nbformat_minor": 2
}
